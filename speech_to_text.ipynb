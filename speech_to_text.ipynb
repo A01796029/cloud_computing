{
 "cells": [
  {
   "cell_type": "code",
   "execution_count": 1,
   "id": "ec2a076e7a87f571",
   "metadata": {
    "jupyter": {
     "is_executing": true
    }
   },
   "outputs": [
    {
     "name": "stdout",
     "output_type": "stream",
     "text": [
      "Defaulting to user installation because normal site-packages is not writeable\n",
      "Requirement already satisfied: azure-cognitiveservices-speech in c:\\users\\santi\\appdata\\roaming\\python\\python310\\site-packages (1.42.0)\n"
     ]
    }
   ],
   "source": [
    "!pip install azure-cognitiveservices-speech"
   ]
  },
  {
   "cell_type": "code",
   "execution_count": 3,
   "id": "fbc121e30a2defb3",
   "metadata": {
    "jupyter": {
     "is_executing": true
    }
   },
   "outputs": [],
   "source": [
    "import os\n",
    "import azure.cognitiveservices.speech as speechsdk\n",
    "\n",
    "def recognize_from_microphone():\n",
    "    key = 'CsCJCZ0YX50nEZjvqd7UdVLGdsmhmeAciAreammAQE8tD0Mo1UFzJQQJ99BCACYeBjFXJ3w3AAAYACOGI8LC'\n",
    "    region = 'eastus'\n",
    "\n",
    "    # Configuramos el SDK con la API Key y la region\n",
    "    speech_config = speechsdk.SpeechConfig(subscription=key, region=region)\n",
    "    # Configuramos el idioma a español\n",
    "    speech_config.speech_recognition_language='es-MX'\n",
    "    \n",
    "    # Configuramos el SDK para usar el microfono default del dispositivo\n",
    "    audio_config = speechsdk.audio.AudioConfig(use_default_microphone=True)\n",
    "\n",
    "    # Inicializamos el Reconocedor de voz con las configuraciones que hicimos como parametros\n",
    "    speech_recognizer = speechsdk.SpeechRecognizer(speech_config=speech_config, audio_config=audio_config)\n",
    "\n",
    "    # Iniciamos el reconocimiento de voz\n",
    "    # se reconocera hasta 30 segundos o hasta que se detecte un silencio\n",
    "    print(\"Speak into your microphone.\")\n",
    "    speech_recognition_result = speech_recognizer.recognize_once_async().get()\n",
    "\n",
    "    # Procesamos el resultado dependiendo si se pudo reconocer el resultado \"RecognizedSpeech\"\n",
    "    if speech_recognition_result.reason == speechsdk.ResultReason.RecognizedSpeech:\n",
    "        print(\"Recognized: {}\".format(speech_recognition_result.text))\n",
    "    # Si no se pudo reconocer el texto \"NoMatch\"\n",
    "    elif speech_recognition_result.reason == speechsdk.ResultReason.NoMatch:\n",
    "        print(\"No speech could be recognized: {}\".format(speech_recognition_result.no_match_details))\n",
    "    # Si el reconocimiento de voz fue cancelado \"Canceled\"\n",
    "    elif speech_recognition_result.reason == speechsdk.ResultReason.Canceled:\n",
    "        cancellation_details = speech_recognition_result.cancellation_details\n",
    "        print(\"Speech Recognition canceled: {}\".format(cancellation_details.reason))\n",
    "        if cancellation_details.reason == speechsdk.CancellationReason.Error:\n",
    "            print(\"Error details: {}\".format(cancellation_details.error_details))\n",
    "            print(\"Did you set the speech resource key and region values?\")\n",
    "\n"
   ]
  },
  {
   "cell_type": "code",
   "execution_count": 11,
   "id": "b5ecd8e9dc07b9ae",
   "metadata": {},
   "outputs": [
    {
     "name": "stdout",
     "output_type": "stream",
     "text": [
      "Speak into your microphone.\n",
      "Recognized: Probando el reconocimiento de voz.\n"
     ]
    }
   ],
   "source": [
    "# Probamos hablando al microfono\n",
    "recognize_from_microphone()"
   ]
  },
  {
   "cell_type": "code",
   "execution_count": 14,
   "id": "7da406cf-2185-4f92-bd55-c31ce04d2c55",
   "metadata": {},
   "outputs": [
    {
     "name": "stdout",
     "output_type": "stream",
     "text": [
      "Speak into your microphone.\n",
      "No speech could be recognized: NoMatchDetails(reason=NoMatchReason.InitialSilenceTimeout)\n"
     ]
    }
   ],
   "source": [
    "# Hacemos ruido pero no decimos ninguna palabra\n",
    "recognize_from_microphone()"
   ]
  }
 ],
 "metadata": {
  "kernelspec": {
   "display_name": "Python [conda env:base] *",
   "language": "python",
   "name": "conda-base-py"
  },
  "language_info": {
   "codemirror_mode": {
    "name": "ipython",
    "version": 3
   },
   "file_extension": ".py",
   "mimetype": "text/x-python",
   "name": "python",
   "nbconvert_exporter": "python",
   "pygments_lexer": "ipython3",
   "version": "3.10.9"
  }
 },
 "nbformat": 4,
 "nbformat_minor": 5
}
